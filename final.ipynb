import requests
import folium
import pandas as pd
import branca
from google.colab import files

x = files.upload()
# Upload and load the data
data = pd.read_csv('finalmed.csv')

# Ensure 'Rating' is numeric and handle NaN values
data['Rating'] = pd.to_numeric(data['Rating'], errors='coerce')
data = data.dropna(subset=['Rating'])  # Drop rows with NaN in 'Rating'

# Create a map centered around the U.S.
m = folium.Map([43, -100], zoom_start=6, tiles="CartoDB positron")

# Create a colormap based on 'Rating'
colormap = branca.colormap.linear.YlGnBu_09.scale(data['Rating'].min(), data['Rating'].max())

# Load country geojson data
countries = requests.get(
    "https://raw.githubusercontent.com/python-visualization/folium/main/examples/data/world-countries.json"
).json()

# Add 'Rating' and 'Name' data to GeoJSON features
for feature in countries['features']:
    country_name = feature['properties']['name']
    country_data = data.loc[data['Country'] == country_name]

    # Extract Rating and Name for the country
    if not country_data.empty:
        feature['properties']['Rating'] = country_data['Rating'].values[0]
        feature['properties']['Name'] = country_data['Name'].values[0]
        feature['properties']['1st'] = country_data['1st'].values[0]
    else:
        feature['properties']['Rating'] = 'N/A'
        feature['properties']['Name'] = 'N/A'
        feature['properties']['1st'] = 'N/A'

# Add choropleth layer with 'YlGnBu' as the color scheme
choropleth = folium.Choropleth(
    geo_data=countries,
    name="choropleth",
    data=data,
    columns=["Country", "Rating"],
    key_on="feature.properties.name",
    fill_color="YlGnBu",
    fill_opacity=0.7,
    line_opacity=0.2,
    highlight=True,
).add_to(m)

# Add tooltips for each country with its rating and name
folium.GeoJson(
    countries,
    style_function=lambda x: {'fillColor': '#ffffff00', 'color': '#00000000'},
    tooltip=folium.GeoJsonTooltip(
        fields=['name', 'Rating', 'Name','1st'],
        aliases=['Country:', 'Rating:', 'Name:', '1st serve %:'],
        localize=True
    )
).add_to(m)

# Add the colormap legend
colormap.add_to(m)

# Display the map
m
